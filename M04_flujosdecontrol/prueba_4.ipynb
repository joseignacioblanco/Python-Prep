{
 "cells": [
  {
   "cell_type": "code",
   "execution_count": 5,
   "metadata": {},
   "outputs": [
    {
     "name": "stdout",
     "output_type": "stream",
     "text": [
      "a es mayor que b\n"
     ]
    }
   ],
   "source": [
    "a=10\n",
    "b=6\n",
    "if(a<b):\n",
    "    print(\"a es menor que b\")\n",
    "elif(a>b):\n",
    "    print(\"a es mayor que b\")\n",
    "else:\n",
    "    print(\"a es igual a b\")"
   ]
  },
  {
   "cell_type": "code",
   "execution_count": 2,
   "metadata": {},
   "outputs": [
    {
     "name": "stdout",
     "output_type": "stream",
     "text": [
      "[1, 2, 3, 4, 5]\n",
      "<class 'list'>\n"
     ]
    }
   ],
   "source": [
    "numeros=[1,2,3,4,5]\n",
    "print(numeros)\n",
    "print(type(numeros))"
   ]
  },
  {
   "cell_type": "code",
   "execution_count": 13,
   "metadata": {},
   "outputs": [
    {
     "name": "stdout",
     "output_type": "stream",
     "text": [
      "1\n",
      "2\n",
      "3\n",
      "4\n",
      "5\n"
     ]
    }
   ],
   "source": [
    "for i in numeros:\n",
    "    print(i)\n",
    "    numeros=6"
   ]
  },
  {
   "cell_type": "code",
   "execution_count": 1,
   "metadata": {},
   "outputs": [
    {
     "name": "stdout",
     "output_type": "stream",
     "text": [
      "Soy menor que diez y como estoy primero me voy a ejecutar\n"
     ]
    }
   ],
   "source": [
    "num = 5\n",
    "if num>10:\n",
    "    print(\"Soy mayor\")\n",
    "elif num<10:\n",
    "    print(\"Soy menor que diez y como estoy primero me voy a ejecutar\")\n",
    "elif num<7:\n",
    "    print(\"Soy también menor\")\n",
    "else:\n",
    "    print(\"Soy igual\")"
   ]
  },
  {
   "cell_type": "code",
   "execution_count": 1,
   "metadata": {},
   "outputs": [
    {
     "name": "stdout",
     "output_type": "stream",
     "text": [
      "mondongo 3\n",
      "mondongo 4\n",
      "mondongo 5\n",
      "mondongo 6\n",
      "mondongo 7\n",
      "mondongo 8\n",
      "mondongo 9\n"
     ]
    }
   ],
   "source": [
    "num = 3 \n",
    "while(num < 10):\n",
    "    print(\"mondongo\", num)\n",
    "    num = num + 1\n",
    "    "
   ]
  },
  {
   "cell_type": "code",
   "execution_count": 25,
   "metadata": {},
   "outputs": [],
   "source": [
    "'''un comentario que sirve como ayuda documentada de una funcion'''\n",
    "\"se suponia que si era comilla de documentacion salia en la help pero no\"\n",
    "#comentario que si va salir en la documentacion con el help\n",
    "def saluda(nombre:str) -> None:\n",
    "        print(\"hola, \" + nombre)\n",
    "\n",
    "#-------------------------------------------------\n",
    "\n",
    "def duplica(num:float)->float:\n",
    "        return num * 2"
   ]
  },
  {
   "cell_type": "code",
   "execution_count": 28,
   "metadata": {},
   "outputs": [
    {
     "name": "stdout",
     "output_type": "stream",
     "text": [
      "10\n",
      "True\n",
      "False\n",
      "12\n",
      "<class 'float'>\n"
     ]
    }
   ],
   "source": [
    "print(5+5)\n",
    "print(4<5 and 5<8)\n",
    "print(1 == 4)\n",
    "print(duplica(3*2))\n",
    "print(type(1.3))"
   ]
  }
 ],
 "metadata": {
  "kernelspec": {
   "display_name": "Python 3",
   "language": "python",
   "name": "python3"
  },
  "language_info": {
   "codemirror_mode": {
    "name": "ipython",
    "version": 3
   },
   "file_extension": ".py",
   "mimetype": "text/x-python",
   "name": "python",
   "nbconvert_exporter": "python",
   "pygments_lexer": "ipython3",
   "version": "3.11.4"
  },
  "orig_nbformat": 4
 },
 "nbformat": 4,
 "nbformat_minor": 2
}
