{
 "cells": [
  {
   "attachments": {},
   "cell_type": "markdown",
   "metadata": {},
   "source": [
    "## Flujos de Control"
   ]
  },
  {
   "attachments": {},
   "cell_type": "markdown",
   "metadata": {},
   "source": [
    "1) Crear una variable que contenga un elemento del conjunto de números enteros y luego imprimir por pantalla si es mayor o menor a cero"
   ]
  },
  {
   "cell_type": "code",
   "execution_count": 2,
   "metadata": {},
   "outputs": [
    {
     "name": "stdout",
     "output_type": "stream",
     "text": [
      "el numero -12 es negativo.\n"
     ]
    }
   ],
   "source": [
    "x= -12\n",
    "if x>0:\n",
    "    print(f\"el numero {x} es positivo.\")\n",
    "else:\n",
    "    print(f\"el numero {x} es negativo.\")"
   ]
  },
  {
   "attachments": {},
   "cell_type": "markdown",
   "metadata": {},
   "source": [
    "2) Crear dos variables y un condicional que informe si son del mismo tipo de dato"
   ]
  },
  {
   "cell_type": "code",
   "execution_count": 5,
   "metadata": {},
   "outputs": [
    {
     "name": "stdout",
     "output_type": "stream",
     "text": [
      "son del mismo tipo.\n"
     ]
    }
   ],
   "source": [
    "nombre= \"matias\"\n",
    "edad= \"veinisiete\"\n",
    "\n",
    "if type(nombre) == type(edad):\n",
    "    print(\"son del mismo tipo.\")\n",
    "else:\n",
    "    print(\"son de tipos diferentes.\")"
   ]
  },
  {
   "attachments": {},
   "cell_type": "markdown",
   "metadata": {},
   "source": [
    "3) Para los valores enteros del 1 al 20, imprimir por pantalla si es par o impar"
   ]
  },
  {
   "cell_type": "code",
   "execution_count": 6,
   "metadata": {},
   "outputs": [
    {
     "name": "stdout",
     "output_type": "stream",
     "text": [
      "1 es numer impar.\n",
      "2 es numero par.\n",
      "3 es numer impar.\n",
      "4 es numero par.\n",
      "5 es numer impar.\n",
      "6 es numero par.\n",
      "7 es numer impar.\n",
      "8 es numero par.\n",
      "9 es numer impar.\n",
      "10 es numero par.\n",
      "11 es numer impar.\n",
      "12 es numero par.\n",
      "13 es numer impar.\n",
      "14 es numero par.\n",
      "15 es numer impar.\n",
      "16 es numero par.\n",
      "17 es numer impar.\n",
      "18 es numero par.\n",
      "19 es numer impar.\n",
      "20 es numero par.\n"
     ]
    }
   ],
   "source": [
    "for i in range(20):\n",
    "    if (i+1)%2 == 0:\n",
    "        print(f\"{i+1} es numero par.\")\n",
    "    else: \n",
    "        print(f\"{i+1} es numer impar.\")"
   ]
  },
  {
   "attachments": {},
   "cell_type": "markdown",
   "metadata": {},
   "source": [
    "4) En un ciclo for mostrar para los valores entre 0 y 5 el resultado de elevarlo a la potencia igual a 3"
   ]
  },
  {
   "cell_type": "code",
   "execution_count": 8,
   "metadata": {},
   "outputs": [
    {
     "name": "stdout",
     "output_type": "stream",
     "text": [
      "0 al cubo es: 0\n",
      "1 al cubo es: 1\n",
      "2 al cubo es: 8\n",
      "3 al cubo es: 27\n",
      "4 al cubo es: 64\n",
      "5 al cubo es: 125\n"
     ]
    }
   ],
   "source": [
    "for i in range(6):\n",
    "    print(f\"{i} al cubo es: {i**3}\")"
   ]
  },
  {
   "attachments": {},
   "cell_type": "markdown",
   "metadata": {},
   "source": [
    "5) Crear una variable que contenga un número entero y realizar un ciclo for la misma cantidad de ciclos"
   ]
  },
  {
   "cell_type": "code",
   "execution_count": 11,
   "metadata": {},
   "outputs": [
    {
     "name": "stdout",
     "output_type": "stream",
     "text": [
      "ciclo: 1\n",
      "ciclo: 2\n",
      "ciclo: 3\n",
      "ciclo: 4\n",
      "ciclo: 5\n",
      "ciclo: 6\n",
      "ciclo: 7\n",
      "ciclo: 8\n",
      "ciclo: 9\n"
     ]
    }
   ],
   "source": [
    "n=9\n",
    "for i in range(n):\n",
    "    print(f\"ciclo: {i+1}\")"
   ]
  },
  {
   "attachments": {},
   "cell_type": "markdown",
   "metadata": {},
   "source": [
    "6) Utilizar un ciclo while para realizar el factorial de un número guardado en una variable, sólo si la variable contiene un número entero mayor a 0"
   ]
  },
  {
   "cell_type": "code",
   "execution_count": 63,
   "metadata": {},
   "outputs": [
    {
     "name": "stdout",
     "output_type": "stream",
     "text": [
      "El numero: 2 es un entero y su factorial es: 6\n"
     ]
    }
   ],
   "source": [
    "num = 3     \n",
    "\n",
    "if (type(num) == int):  #entra solo si son enteros\n",
    "    if num<=0: #en el caso en que sea un numero negativo o cero no hay factorial\n",
    "        print(f\"El numero: {num} es un entero menor o igual a cero\")\n",
    "    else:\n",
    "        factorial = num  #si es 1 o 2 directamente el factorial es 1 o 2. \n",
    "        while(num>2): #si es mayor que dos, comienza a valer num y va restando de uno en uno\n",
    "            num -= 1  # por ejemplo si es 3! = 3*2\n",
    "            factorial *= num\n",
    "        print(f\"El numero: {num} es un entero y su factorial es: {factorial}\")           \n",
    "else:\n",
    "    print(f\"{num} no es un entero\")"
   ]
  },
  {
   "attachments": {},
   "cell_type": "markdown",
   "metadata": {},
   "source": [
    "7) Crear un ciclo for dentro de un ciclo while"
   ]
  },
  {
   "cell_type": "code",
   "execution_count": 68,
   "metadata": {},
   "outputs": [
    {
     "name": "stdout",
     "output_type": "stream",
     "text": [
      "ciclo for 0\n",
      "ciclo for 1\n",
      "ciclo for 2\n",
      "ciclo while1\n",
      "ciclo for 0\n",
      "ciclo for 1\n",
      "ciclo for 2\n",
      "ciclo while2\n",
      "ciclo for 0\n",
      "ciclo for 1\n",
      "ciclo for 2\n",
      "ciclo while3\n",
      "ciclo for 0\n",
      "ciclo for 1\n",
      "ciclo for 2\n",
      "ciclo while4\n"
     ]
    }
   ],
   "source": [
    "i=1\n",
    "while(i<5):\n",
    "    for j in range(3):\n",
    "        print(f\"ciclo for {j}\")\n",
    "    print(f\"ciclo while{i}\")\n",
    "    i+=1"
   ]
  },
  {
   "attachments": {},
   "cell_type": "markdown",
   "metadata": {},
   "source": [
    "8) Crear un ciclo while dentro de un ciclo for"
   ]
  },
  {
   "cell_type": "code",
   "execution_count": 70,
   "metadata": {},
   "outputs": [
    {
     "name": "stdout",
     "output_type": "stream",
     "text": [
      "ciclo while 0\n",
      "ciclo while 1\n",
      "ciclo for 0\n",
      "ciclo while 0\n",
      "ciclo while 1\n",
      "ciclo for 1\n",
      "ciclo while 0\n",
      "ciclo while 1\n",
      "ciclo for 2\n"
     ]
    }
   ],
   "source": [
    "for i in range(3):\n",
    "    j=0\n",
    "    while(j<2):\n",
    "        print(f\"ciclo while {j}\")\n",
    "        j+=1\n",
    "    print(f\"ciclo for {i}\")"
   ]
  },
  {
   "attachments": {},
   "cell_type": "markdown",
   "metadata": {},
   "source": [
    "9) Imprimir los números primos existentes entre 0 y 30"
   ]
  },
  {
   "cell_type": "code",
   "execution_count": 11,
   "metadata": {},
   "outputs": [
    {
     "name": "stdout",
     "output_type": "stream",
     "text": [
      "1 es primo\n",
      "2 es primo\n",
      "3 es primo\n",
      "5 es primo\n",
      "7 es primo\n",
      "11 es primo\n",
      "13 es primo\n",
      "17 es primo\n",
      "19 es primo\n",
      "23 es primo\n",
      "29 es primo\n"
     ]
    }
   ],
   "source": [
    "for i in range(1,31):\n",
    "    primo=0\n",
    "    \n",
    "    for j in range(1,31):\n",
    "        if(i>=j):\n",
    "            if((i%j) == 0):\n",
    "                primo += 1\n",
    "            \n",
    "    if primo < 3:\n",
    "        print(f\"{i} es primo\")\n",
    "    #else:\n",
    "        #print(f\"{i} NO es primo\")"
   ]
  },
  {
   "attachments": {},
   "cell_type": "markdown",
   "metadata": {},
   "source": [
    "10) ¿Se puede mejorar el proceso del punto 9? Utilizar las sentencias break y/ó continue para tal fin"
   ]
  },
  {
   "cell_type": "code",
   "execution_count": 26,
   "metadata": {},
   "outputs": [
    {
     "name": "stdout",
     "output_type": "stream",
     "text": [
      "1 es primo\n",
      "2 es primo\n",
      "3 es primo\n",
      "5 es primo\n",
      "7 es primo\n",
      "11 es primo\n",
      "13 es primo\n",
      "17 es primo\n",
      "19 es primo\n",
      "23 es primo\n",
      "29 es primo\n",
      "494\n"
     ]
    }
   ],
   "source": [
    "cant_ciclos =0\n",
    "for i in range(1,31):\n",
    "    \n",
    "    primo=0\n",
    "    \n",
    "    for j in range(1,31):\n",
    "        cant_ciclos += 1\n",
    "        if(i>=j):\n",
    "            if((i%j) == 0):\n",
    "                primo += 1\n",
    "        else:\n",
    "            break\n",
    "            \n",
    "    if primo < 3:\n",
    "        print(f\"{i} es primo\")\n",
    "print(cant_ciclos)"
   ]
  },
  {
   "attachments": {},
   "cell_type": "markdown",
   "metadata": {},
   "source": [
    "11) En los puntos 9 y 10, se diseño un código que encuentra números primos y además se lo optimizó. ¿Es posible saber en qué medida se optimizó?"
   ]
  },
  {
   "cell_type": "code",
   "execution_count": 29,
   "metadata": {},
   "outputs": [
    {
     "name": "stdout",
     "output_type": "stream",
     "text": [
      "1 es primo\n",
      "2 es primo\n",
      "3 es primo\n",
      "5 es primo\n",
      "7 es primo\n",
      "11 es primo\n",
      "13 es primo\n",
      "17 es primo\n",
      "19 es primo\n",
      "23 es primo\n",
      "29 es primo\n",
      "54.888888888888886 % de optimizacion\n"
     ]
    }
   ],
   "source": [
    "cant_ciclos =0\n",
    "for i in range(1,31):\n",
    "    \n",
    "    primo=0\n",
    "    \n",
    "    for j in range(1,31):\n",
    "        cant_ciclos += 1\n",
    "        if(i>=j):\n",
    "            if((i%j) == 0):\n",
    "                primo += 1\n",
    "        else:\n",
    "            break\n",
    "            \n",
    "    if primo < 3:\n",
    "        print(f\"{i} es primo\")\n",
    "print(f\"{cant_ciclos/900*100} % de optimizacion\")"
   ]
  },
  {
   "attachments": {},
   "cell_type": "markdown",
   "metadata": {},
   "source": [
    "12) Aplicando continue, armar un ciclo while que solo imprima los valores divisibles por 12, dentro del rango de números de 100 a 300"
   ]
  },
  {
   "cell_type": "code",
   "execution_count": 32,
   "metadata": {},
   "outputs": [
    {
     "name": "stdout",
     "output_type": "stream",
     "text": [
      "108\n",
      "120\n",
      "132\n",
      "144\n",
      "156\n",
      "168\n",
      "180\n",
      "192\n",
      "204\n",
      "216\n",
      "228\n",
      "240\n",
      "252\n",
      "264\n",
      "276\n",
      "288\n",
      "300\n"
     ]
    }
   ],
   "source": [
    "desde=99\n",
    "while(desde < 300):\n",
    "    desde += 1\n",
    "    if(desde%12 ==0):\n",
    "        print(desde)\n",
    "    else:\n",
    "        continue"
   ]
  },
  {
   "attachments": {},
   "cell_type": "markdown",
   "metadata": {},
   "source": [
    "13) Utilizar la función **input()** que permite hacer ingresos por teclado, para encontrar números primos y dar la opción al usario de buscar el siguiente"
   ]
  },
  {
   "cell_type": "code",
   "execution_count": 42,
   "metadata": {},
   "outputs": [
    {
     "name": "stdout",
     "output_type": "stream",
     "text": [
      "1 es primo\n",
      "ingrese 1 para continuar y 0 para terminar.\n",
      "2 es primo\n",
      "ingrese 1 para continuar y 0 para terminar.\n",
      "3 es primo\n",
      "ingrese 1 para continuar y 0 para terminar.\n",
      "5 es primo\n",
      "ingrese 1 para continuar y 0 para terminar.\n",
      "fin del programa\n"
     ]
    }
   ],
   "source": [
    "for i in range(1,31):\n",
    "    primo=0\n",
    "    \n",
    "    for j in range(1,31):\n",
    "        if(i>=j):\n",
    "            if((i%j) == 0):\n",
    "                primo += 1\n",
    "            \n",
    "    if primo < 3:\n",
    "        print(f\"{i} es primo\")\n",
    "        print(\"ingrese 1 para continuar y 0 para terminar.\")\n",
    "\n",
    "    if(input() == \"0\"):\n",
    "        print(\"fin del programa\")\n",
    "        break    "
   ]
  },
  {
   "attachments": {},
   "cell_type": "markdown",
   "metadata": {},
   "source": [
    "14) Crear un ciclo while que encuentre dentro del rango de 100 a 300 el primer número divisible por 3 y además múltiplo de 6"
   ]
  },
  {
   "cell_type": "code",
   "execution_count": 47,
   "metadata": {},
   "outputs": [
    {
     "name": "stdout",
     "output_type": "stream",
     "text": [
      "ciclo 1\n",
      "ciclo 2\n",
      "ciclo 3\n",
      "el primer numero en el rango de 100 a 300 que es divisible por 3 y a su vez multiplo de 6 es: 102\n"
     ]
    }
   ],
   "source": [
    "inf=100\n",
    "while(inf<300):\n",
    "    print(f\"ciclo {inf - 99}\")\n",
    "    if(inf%3 == 0):\n",
    "        print(f\"el primer numero en el rango de 100 a 300 que es divisible por 3 y a su vez multiplo de 6 es: {inf}\")\n",
    "        break\n",
    "    inf += 1"
   ]
  }
 ],
 "metadata": {
  "interpreter": {
   "hash": "c85384e4cb51c8b72350f3a8712cc8351fdc3955e32a27f9b60c6242ab125f01"
  },
  "kernelspec": {
   "display_name": "Python 3 (ipykernel)",
   "language": "python",
   "name": "python3"
  },
  "language_info": {
   "codemirror_mode": {
    "name": "ipython",
    "version": 3
   },
   "file_extension": ".py",
   "mimetype": "text/x-python",
   "name": "python",
   "nbconvert_exporter": "python",
   "pygments_lexer": "ipython3",
   "version": "3.11.4"
  }
 },
 "nbformat": 4,
 "nbformat_minor": 4
}
