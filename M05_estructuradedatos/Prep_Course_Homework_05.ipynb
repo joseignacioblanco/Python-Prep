{
 "cells": [
  {
   "attachments": {},
   "cell_type": "markdown",
   "metadata": {},
   "source": [
    "## Estructuras de Datos"
   ]
  },
  {
   "attachments": {},
   "cell_type": "markdown",
   "metadata": {},
   "source": [
    "1) Crear una lista que contenga nombres de ciudades del mundo que contenga más de 5 elementos e imprimir por pantalla"
   ]
  },
  {
   "cell_type": "code",
   "execution_count": 18,
   "metadata": {},
   "outputs": [
    {
     "name": "stdout",
     "output_type": "stream",
     "text": [
      "['ballivian', 'pozo ondo', 'choromoro', 'agua edionda', 'urundel', 'fagastin']\n",
      "<class 'list'>\n"
     ]
    }
   ],
   "source": [
    "lista_de_ciudades=[\"ballivian\", \"pozo ondo\", \"choromoro\", \"agua edionda\", \"urundel\", \"fagastin\" ]\n",
    "\n",
    "print(lista_de_ciudades)\n",
    "print(type(lista_de_ciudades))"
   ]
  },
  {
   "attachments": {},
   "cell_type": "markdown",
   "metadata": {},
   "source": [
    "2) Imprimir por pantalla el segundo elemento de la lista"
   ]
  },
  {
   "cell_type": "code",
   "execution_count": 4,
   "metadata": {},
   "outputs": [
    {
     "name": "stdout",
     "output_type": "stream",
     "text": [
      "pozo ondo\n"
     ]
    }
   ],
   "source": [
    "print(lista_de_ciudades[1])"
   ]
  },
  {
   "attachments": {},
   "cell_type": "markdown",
   "metadata": {},
   "source": [
    "3) Imprimir por pantalla del segundo al cuarto elemento"
   ]
  },
  {
   "cell_type": "code",
   "execution_count": 5,
   "metadata": {},
   "outputs": [
    {
     "name": "stdout",
     "output_type": "stream",
     "text": [
      "['pozo ondo', 'choromoro', 'agua edionda', 'urundel']\n"
     ]
    }
   ],
   "source": [
    "print(lista_de_ciudades[1:5])"
   ]
  },
  {
   "attachments": {},
   "cell_type": "markdown",
   "metadata": {},
   "source": [
    "4) Visualizar el tipo de dato de la lista"
   ]
  },
  {
   "cell_type": "code",
   "execution_count": 6,
   "metadata": {},
   "outputs": [
    {
     "name": "stdout",
     "output_type": "stream",
     "text": [
      "<class 'list'>\n"
     ]
    }
   ],
   "source": [
    "print(type(lista_de_ciudades))"
   ]
  },
  {
   "attachments": {},
   "cell_type": "markdown",
   "metadata": {},
   "source": [
    "5) Visualizar todos los elementos de la lista a partir del tercero de manera genérica, es decir, sin explicitar la posición del último elemento"
   ]
  },
  {
   "cell_type": "code",
   "execution_count": 7,
   "metadata": {},
   "outputs": [
    {
     "data": {
      "text/plain": [
       "['choromoro', 'agua edionda', 'urundel', 'fagastin']"
      ]
     },
     "execution_count": 7,
     "metadata": {},
     "output_type": "execute_result"
    }
   ],
   "source": [
    "lista_de_ciudades[2:]"
   ]
  },
  {
   "attachments": {},
   "cell_type": "markdown",
   "metadata": {},
   "source": [
    "6) Visualizar los primeros 4 elementos de la lista"
   ]
  },
  {
   "cell_type": "code",
   "execution_count": 8,
   "metadata": {},
   "outputs": [
    {
     "data": {
      "text/plain": [
       "['ballivian', 'pozo ondo', 'choromoro', 'agua edionda']"
      ]
     },
     "execution_count": 8,
     "metadata": {},
     "output_type": "execute_result"
    }
   ],
   "source": [
    "lista_de_ciudades[:4]"
   ]
  },
  {
   "attachments": {},
   "cell_type": "markdown",
   "metadata": {},
   "source": [
    "7) Agregar una ciudad más a la lista que ya exista y otra que no ¿Arroja algún tipo de error?"
   ]
  },
  {
   "cell_type": "code",
   "execution_count": 24,
   "metadata": {},
   "outputs": [
    {
     "name": "stdout",
     "output_type": "stream",
     "text": [
      "['ballivian', 'pozo ondo', 'choromoro', 'agua edionda', 'urundel', 'fagastin', 'paris', 'urundel', 'yatasto']\n"
     ]
    }
   ],
   "source": [
    "lista_de_ciudades.append('urundel')\n",
    "lista_de_ciudades.append('yatasto')\n",
    "print(lista_de_ciudades)"
   ]
  },
  {
   "attachments": {},
   "cell_type": "markdown",
   "metadata": {},
   "source": [
    "8) Agregar otra ciudad, pero en la cuarta posición"
   ]
  },
  {
   "cell_type": "code",
   "execution_count": 10,
   "metadata": {},
   "outputs": [
    {
     "data": {
      "text/plain": [
       "['ballivian',\n",
       " 'pozo ondo',\n",
       " 'choromoro',\n",
       " 'salsacate',\n",
       " 'agua edionda',\n",
       " 'urundel',\n",
       " 'fagastin',\n",
       " 'urundel',\n",
       " 'yatasto']"
      ]
     },
     "execution_count": 10,
     "metadata": {},
     "output_type": "execute_result"
    }
   ],
   "source": [
    "lista_de_ciudades.insert(3, 'salsacate')\n",
    "lista_de_ciudades"
   ]
  },
  {
   "attachments": {},
   "cell_type": "markdown",
   "metadata": {},
   "source": [
    "9) Concatenar otra lista a la ya creada"
   ]
  },
  {
   "cell_type": "code",
   "execution_count": 11,
   "metadata": {},
   "outputs": [
    {
     "data": {
      "text/plain": [
       "['ballivian',\n",
       " 'pozo ondo',\n",
       " 'choromoro',\n",
       " 'salsacate',\n",
       " 'agua edionda',\n",
       " 'urundel',\n",
       " 'fagastin',\n",
       " 'urundel',\n",
       " 'yatasto',\n",
       " 'cuico',\n",
       " 'caimancito',\n",
       " 'urizar']"
      ]
     },
     "execution_count": 11,
     "metadata": {},
     "output_type": "execute_result"
    }
   ],
   "source": [
    "lista_de_ciudades.extend(['cuico', 'caimancito', 'urizar'])\n",
    "lista_de_ciudades"
   ]
  },
  {
   "attachments": {},
   "cell_type": "markdown",
   "metadata": {},
   "source": [
    "10) Encontrar el índice de la ciudad que en el punto 7 agregamos duplicada. ¿Se nota alguna particularidad?"
   ]
  },
  {
   "cell_type": "code",
   "execution_count": 12,
   "metadata": {},
   "outputs": [
    {
     "name": "stdout",
     "output_type": "stream",
     "text": [
      "5\n"
     ]
    }
   ],
   "source": [
    "print(lista_de_ciudades.index('urundel'))\n",
    "\n",
    "#muestra la primer ocurrencia que se encuentre en este caso la sexta posicion con indice 5 y el proximo esta en indice 7"
   ]
  },
  {
   "attachments": {},
   "cell_type": "markdown",
   "metadata": {},
   "source": [
    "11) ¿Qué pasa si se busca un elemento que no existe?"
   ]
  },
  {
   "cell_type": "code",
   "execution_count": 13,
   "metadata": {},
   "outputs": [
    {
     "ename": "ValueError",
     "evalue": "'san andres' is not in list",
     "output_type": "error",
     "traceback": [
      "\u001b[1;31m---------------------------------------------------------------------------\u001b[0m",
      "\u001b[1;31mValueError\u001b[0m                                Traceback (most recent call last)",
      "Cell \u001b[1;32mIn[13], line 2\u001b[0m\n\u001b[0;32m      1\u001b[0m \u001b[39m#lo que va pasar es que va dar error\u001b[39;00m\n\u001b[1;32m----> 2\u001b[0m \u001b[39mprint\u001b[39m(lista_de_ciudades\u001b[39m.\u001b[39;49mindex(\u001b[39m'\u001b[39;49m\u001b[39msan andres\u001b[39;49m\u001b[39m'\u001b[39;49m))\n",
      "\u001b[1;31mValueError\u001b[0m: 'san andres' is not in list"
     ]
    }
   ],
   "source": [
    "#lo que va pasar es que va dar error\n",
    "print(lista_de_ciudades.index('san andres'))"
   ]
  },
  {
   "attachments": {},
   "cell_type": "markdown",
   "metadata": {},
   "source": [
    "12) Eliminar un elemento de la lista"
   ]
  },
  {
   "cell_type": "code",
   "execution_count": null,
   "metadata": {},
   "outputs": [
    {
     "name": "stdout",
     "output_type": "stream",
     "text": [
      "['ballivian', 'pozo ondo', 'choromoro', 'salsacate', 'agua edionda', 'urundel', 'fagastin', 'urundel', 'yatasto', 'cuico', 'caimancito', 'urizar']\n",
      "['ballivian', 'pozo ondo', 'choromoro', 'salsacate', 'agua edionda', 'urundel', 'fagastin', 'urundel', 'yatasto', 'caimancito', 'urizar']\n"
     ]
    }
   ],
   "source": [
    "print(lista_de_ciudades)\n",
    "lista_de_ciudades.remove('cuico')\n",
    "print(lista_de_ciudades)"
   ]
  },
  {
   "attachments": {},
   "cell_type": "markdown",
   "metadata": {},
   "source": [
    "13) ¿Qué pasa si el elemento a eliminar no existe?"
   ]
  },
  {
   "cell_type": "code",
   "execution_count": null,
   "metadata": {},
   "outputs": [
    {
     "ename": "ValueError",
     "evalue": "list.remove(x): x not in list",
     "output_type": "error",
     "traceback": [
      "\u001b[1;31m---------------------------------------------------------------------------\u001b[0m",
      "\u001b[1;31mValueError\u001b[0m                                Traceback (most recent call last)",
      "Cell \u001b[1;32mIn[98], line 2\u001b[0m\n\u001b[0;32m      1\u001b[0m \u001b[39m#se supone que si queremos eliminar un elemento que no existe entonces va dar error\u001b[39;00m\n\u001b[1;32m----> 2\u001b[0m lista_de_ciudades\u001b[39m.\u001b[39;49mremove(\u001b[39m'\u001b[39;49m\u001b[39mcuico\u001b[39;49m\u001b[39m'\u001b[39;49m)\n",
      "\u001b[1;31mValueError\u001b[0m: list.remove(x): x not in list"
     ]
    }
   ],
   "source": [
    "#se supone que si queremos eliminar un elemento que no existe entonces va dar error\n",
    "lista_de_ciudades.remove('cuico')"
   ]
  },
  {
   "attachments": {},
   "cell_type": "markdown",
   "metadata": {},
   "source": [
    "14) Extraer el úlimo elemento de la lista, guardarlo en una variable e imprimirlo"
   ]
  },
  {
   "cell_type": "code",
   "execution_count": null,
   "metadata": {},
   "outputs": [
    {
     "name": "stdout",
     "output_type": "stream",
     "text": [
      "urizar\n"
     ]
    }
   ],
   "source": [
    "ciudad_pop = lista_de_ciudades.pop()\n",
    "print(ciudad_pop)"
   ]
  },
  {
   "attachments": {},
   "cell_type": "markdown",
   "metadata": {},
   "source": [
    "15) Mostrar la lista multiplicada por 4"
   ]
  },
  {
   "cell_type": "code",
   "execution_count": null,
   "metadata": {},
   "outputs": [
    {
     "data": {
      "text/plain": [
       "['ballivian',\n",
       " 'pozo ondo',\n",
       " 'choromoro',\n",
       " 'salsacate',\n",
       " 'agua edionda',\n",
       " 'urundel',\n",
       " 'fagastin',\n",
       " 'urundel',\n",
       " 'yatasto',\n",
       " 'caimancito',\n",
       " 'ballivian',\n",
       " 'pozo ondo',\n",
       " 'choromoro',\n",
       " 'salsacate',\n",
       " 'agua edionda',\n",
       " 'urundel',\n",
       " 'fagastin',\n",
       " 'urundel',\n",
       " 'yatasto',\n",
       " 'caimancito',\n",
       " 'ballivian',\n",
       " 'pozo ondo',\n",
       " 'choromoro',\n",
       " 'salsacate',\n",
       " 'agua edionda',\n",
       " 'urundel',\n",
       " 'fagastin',\n",
       " 'urundel',\n",
       " 'yatasto',\n",
       " 'caimancito',\n",
       " 'ballivian',\n",
       " 'pozo ondo',\n",
       " 'choromoro',\n",
       " 'salsacate',\n",
       " 'agua edionda',\n",
       " 'urundel',\n",
       " 'fagastin',\n",
       " 'urundel',\n",
       " 'yatasto',\n",
       " 'caimancito']"
      ]
     },
     "execution_count": 100,
     "metadata": {},
     "output_type": "execute_result"
    }
   ],
   "source": [
    "lista_de_ciudades*4"
   ]
  },
  {
   "attachments": {},
   "cell_type": "markdown",
   "metadata": {},
   "source": [
    "16) Crear una tupla que contenga los números enteros del 1 al 20"
   ]
  },
  {
   "cell_type": "code",
   "execution_count": 21,
   "metadata": {},
   "outputs": [
    {
     "name": "stdout",
     "output_type": "stream",
     "text": [
      "<class 'tuple'>\n",
      "(1, 2, 3, 4, 5, 6, 7, 8, 9, 10, 11, 12, 13, 14, 15, 16, 17, 18, 19, 20)\n"
     ]
    }
   ],
   "source": [
    "tulpo=tuple(range(1,21))\n",
    "print(type(tulpo))\n",
    "print(tulpo)"
   ]
  },
  {
   "attachments": {},
   "cell_type": "markdown",
   "metadata": {},
   "source": [
    "17) Imprimir desde el índice 10 al 15 de la tupla"
   ]
  },
  {
   "cell_type": "code",
   "execution_count": null,
   "metadata": {},
   "outputs": [
    {
     "name": "stdout",
     "output_type": "stream",
     "text": [
      "(11, 12, 13, 14, 15, 16)\n"
     ]
    }
   ],
   "source": [
    "print(tulpo[10:16])"
   ]
  },
  {
   "attachments": {},
   "cell_type": "markdown",
   "metadata": {},
   "source": [
    "18) Evaluar si los números 20 y 30 están dentro de la tupla"
   ]
  },
  {
   "cell_type": "code",
   "execution_count": null,
   "metadata": {},
   "outputs": [
    {
     "name": "stdout",
     "output_type": "stream",
     "text": [
      "True\n",
      "False\n"
     ]
    }
   ],
   "source": [
    "print(20 in tulpo)\n",
    "print(30 in tulpo)"
   ]
  },
  {
   "attachments": {},
   "cell_type": "markdown",
   "metadata": {},
   "source": [
    "19) Con la lista creada en el punto 1, validar la existencia del elemento 'París' y si no existe, agregarlo. Utilizar una variable e informar lo sucedido."
   ]
  },
  {
   "cell_type": "code",
   "execution_count": 19,
   "metadata": {},
   "outputs": [
    {
     "name": "stdout",
     "output_type": "stream",
     "text": [
      "se agrego paris a la lista\n"
     ]
    }
   ],
   "source": [
    "nuevo_elemento = \"paris\"\n",
    "if (nuevo_elemento in lista_de_ciudades):\n",
    "    print(\"la ciudad ya estaba en la lista\")\n",
    "else:\n",
    "    lista_de_ciudades.append(nuevo_elemento)\n",
    "    print(f\"se agrego {nuevo_elemento} a la lista\")"
   ]
  },
  {
   "attachments": {},
   "cell_type": "markdown",
   "metadata": {},
   "source": [
    "20) Mostrar la cantidad de veces que se encuentra un elemento específico dentro de la tupla y de la lista"
   ]
  },
  {
   "cell_type": "code",
   "execution_count": 26,
   "metadata": {},
   "outputs": [
    {
     "name": "stdout",
     "output_type": "stream",
     "text": [
      "1\n",
      "2\n"
     ]
    }
   ],
   "source": [
    "print(tulpo.count(5))\n",
    "print(lista_de_ciudades.count(\"urundel\"))"
   ]
  },
  {
   "attachments": {},
   "cell_type": "markdown",
   "metadata": {},
   "source": [
    "21) Convertir la tupla en una lista"
   ]
  },
  {
   "cell_type": "code",
   "execution_count": 27,
   "metadata": {},
   "outputs": [
    {
     "name": "stdout",
     "output_type": "stream",
     "text": [
      "[1, 2, 3, 4, 5, 6, 7, 8, 9, 10, 11, 12, 13, 14, 15, 16, 17, 18, 19, 20]\n"
     ]
    }
   ],
   "source": [
    "nueva_lista = list(tulpo)\n",
    "print(nueva_lista)"
   ]
  },
  {
   "attachments": {},
   "cell_type": "markdown",
   "metadata": {},
   "source": [
    "22) Desempaquetar solo los primeros 3 elementos de la tupla en 3 variables"
   ]
  },
  {
   "cell_type": "code",
   "execution_count": 30,
   "metadata": {},
   "outputs": [
    {
     "name": "stdout",
     "output_type": "stream",
     "text": [
      "1\n",
      "<class 'int'>\n",
      "2\n",
      "<class 'int'>\n",
      "3\n",
      "<class 'int'>\n"
     ]
    }
   ],
   "source": [
    "uno,dos,tres = tulpo[0:3]\n",
    "print(uno)\n",
    "print(type(uno))\n",
    "print(dos)\n",
    "print(type(dos))\n",
    "print(tres)\n",
    "print(type(tres))\n",
    "\n",
    "#tambien podria haber sido:\n",
    "# uno, dos, tres, _, _, _, _, _, _, _, _, _, _, _, _, _, _, _, _, _ = tulpo\n",
    "#print(uno)\n",
    "#print(dos)\n",
    "#print(tres)"
   ]
  },
  {
   "attachments": {},
   "cell_type": "markdown",
   "metadata": {},
   "source": [
    "23) Crear un diccionario utilizando la lista crada en el punto 1, asignandole la clave \"ciudad\". Agregar tambien otras claves, como puede ser \"Pais\" y \"Continente\"."
   ]
  },
  {
   "cell_type": "code",
   "execution_count": 34,
   "metadata": {},
   "outputs": [
    {
     "name": "stdout",
     "output_type": "stream",
     "text": [
      "{'Ciudad': ['ballivian', 'pozo ondo', 'choromoro', 'agua edionda', 'urundel', 'fagastin', 'paris', 'urundel', 'yatasto'], 'País': ['Brasil', 'Uganda', 'nueva zelanda', 'pekin', 'barsovia', 'montenegro'], 'Continente': ['América', 'africa', 'astralla', 'osiania', 'asia', 'europa']}\n"
     ]
    }
   ],
   "source": [
    "disionario = {  'Ciudad': lista_de_ciudades, \n",
    "'País': ['Brasil','Uganda','nueva zelanda','pekin','barsovia','montenegro'], \n",
    "'Continente' : ['América','africa','astralla','osiania','asia','europa']}\n",
    "print(disionario)"
   ]
  },
  {
   "attachments": {},
   "cell_type": "markdown",
   "metadata": {},
   "source": [
    "24) Imprimir las claves del diccionario"
   ]
  },
  {
   "cell_type": "code",
   "execution_count": 35,
   "metadata": {},
   "outputs": [
    {
     "name": "stdout",
     "output_type": "stream",
     "text": [
      "dict_keys(['Ciudad', 'País', 'Continente'])\n"
     ]
    }
   ],
   "source": [
    "print(disionario.keys())"
   ]
  },
  {
   "attachments": {},
   "cell_type": "markdown",
   "metadata": {},
   "source": [
    "25) Imprimir las ciudades a través de su clave"
   ]
  },
  {
   "cell_type": "code",
   "execution_count": 36,
   "metadata": {},
   "outputs": [
    {
     "name": "stdout",
     "output_type": "stream",
     "text": [
      "['ballivian', 'pozo ondo', 'choromoro', 'agua edionda', 'urundel', 'fagastin', 'paris', 'urundel', 'yatasto']\n"
     ]
    }
   ],
   "source": [
    "print(disionario['Ciudad'])"
   ]
  }
 ],
 "metadata": {
  "interpreter": {
   "hash": "c85384e4cb51c8b72350f3a8712cc8351fdc3955e32a27f9b60c6242ab125f01"
  },
  "kernelspec": {
   "display_name": "Python 3 (ipykernel)",
   "language": "python",
   "name": "python3"
  },
  "language_info": {
   "codemirror_mode": {
    "name": "ipython",
    "version": 3
   },
   "file_extension": ".py",
   "mimetype": "text/x-python",
   "name": "python",
   "nbconvert_exporter": "python",
   "pygments_lexer": "ipython3",
   "version": "3.11.4"
  }
 },
 "nbformat": 4,
 "nbformat_minor": 4
}
